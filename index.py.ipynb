{
 "cells": [
  {
   "cell_type": "code",
   "execution_count": 5,
   "metadata": {},
   "outputs": [
    {
     "name": "stdout",
     "output_type": "stream",
     "text": [
      "\u001b[31mHello, World!\n",
      "\u001b[33mHello, World!\n",
      "\u001b[32mHello, World!\n",
      "\u001b[36mHello, World!\n",
      "\u001b[34mHello, World!\n",
      "\u001b[37mHello, World!\n",
      "\u001b[95mHello, World!\n",
      "\u001b[97mMy first ever made script :D\n",
      "\u001b[31mH\n",
      "\u001b[31me\n",
      "\u001b[31ml\n",
      "\u001b[31ml\n",
      "\u001b[31mo\n",
      "\u001b[31mW\n",
      "\u001b[31mo\n",
      "\u001b[31mr\n",
      "\u001b[31ml\n",
      "\u001b[31md\n",
      "hello world! is written vertical from up to down\n"
     ]
    }
   ],
   "source": [
    "# my first ever made script\n",
    "from colorama import Fore, Back, Style\n",
    "\n",
    "print(Fore.RED + 'Hello, World!')\n",
    "\n",
    "print(Fore.YELLOW + 'Hello, World!')\n",
    "\n",
    "print(Fore.GREEN + 'Hello, World!')\n",
    "\n",
    "print(Fore.CYAN + 'Hello, World!')\n",
    "\n",
    "print(Fore.BLUE + 'Hello, World!')\n",
    "\n",
    "print(Fore.WHITE + 'Hello, World!')\n",
    "\n",
    "print(Fore.LIGHTMAGENTA_EX + 'Hello, World!')\n",
    "\n",
    "print(Fore.LIGHTWHITE_EX + 'My first ever made script :D')\n",
    "\n",
    "print(Fore.RED + 'H')\n",
    "\n",
    "print(Fore.RED + 'e')\n",
    "\n",
    "print(Fore.RED + 'l')\n",
    "\n",
    "print(Fore.RED + 'l')\n",
    "\n",
    "print(Fore.RED + 'o')\n",
    "\n",
    "print(Fore.RED + 'W')\n",
    "\n",
    "print(Fore.RED + 'o')\n",
    "\n",
    "print(Fore.RED + 'r')\n",
    "\n",
    "print(Fore.RED + 'l')\n",
    "\n",
    "print(Fore.RED + 'd')\n",
    "\n",
    "print('hello world! is written vertical from up to down')"
   ]
  }
 ],
 "metadata": {
  "interpreter": {
   "hash": "6628dfd4674f34056df74f701c71444c7f233a1b610e98339476afa68f054886"
  },
  "kernelspec": {
   "display_name": "Python 3.10.0 64-bit",
   "name": "python3"
  },
  "language_info": {
   "codemirror_mode": {
    "name": "ipython",
    "version": 3
   },
   "file_extension": ".py",
   "mimetype": "text/x-python",
   "name": "python",
   "nbconvert_exporter": "python",
   "pygments_lexer": "ipython3",
   "version": "3.10.0"
  },
  "orig_nbformat": 4
 },
 "nbformat": 4,
 "nbformat_minor": 2
}
